{
 "cells": [
  {
   "cell_type": "markdown",
   "metadata": {},
   "source": [
    "### 2. Fashion MNIST (2 points)\n",
    "Train a multilayer perceptron on the [Fashion MNIST dataset](https://www.openml.org/d/40996). Use at least two hidden layers and rectified linear nonlinearities.\n",
    "Use the traditional train/test split (first 60.000 instances for training, last 10.000 for testing). Set aside another 10000 samples (from the training set) using statified random sampling (e.g. use StratifiedShuffleSplit). This is meant for model selection and to compute learning curves. Compare a “vanilla” model with a model using drop-out. Visualize learning curves (accuracy vs epochs) for all models. As an estimate, you should expect each model to take less than 30 minutes to train on a CPU."
   ]
  },
  {
   "cell_type": "code",
   "execution_count": 1,
   "metadata": {},
   "outputs": [
    {
     "name": "stderr",
     "output_type": "stream",
     "text": [
      "Using TensorFlow backend.\n"
     ]
    },
    {
     "name": "stdout",
     "output_type": "stream",
     "text": [
      "Using Keras 2.2.4\n"
     ]
    }
   ],
   "source": [
    "# Global imports and settings\n",
    "from preamble import *\n",
    "import keras\n",
    "from keras import models, layers\n",
    "from keras.utils import to_categorical\n",
    "from sklearn.model_selection import train_test_split\n",
    "import matplotlib.pyplot as plt\n",
    "\n",
    "print(\"Using Keras\",keras.__version__)\n",
    "%matplotlib inline\n",
    "plt.rcParams['figure.dpi'] = 300 # Use 300 for PDF, 100 for slides"
   ]
  },
  {
   "cell_type": "markdown",
   "metadata": {},
   "source": [
    "#### Data loading"
   ]
  },
  {
   "cell_type": "code",
   "execution_count": 2,
   "metadata": {},
   "outputs": [
    {
     "name": "stdout",
     "output_type": "stream",
     "text": [
      "Training set:  (50000, 28, 28)\n",
      "Validation set:  (10000, 28, 28)\n",
      "Test set:  (10000, 28, 28)\n"
     ]
    }
   ],
   "source": [
    "# Download FMINST data\n",
    "fmnist = oml.datasets.get_dataset(40996)\n",
    "X, y = fmnist.get_data(target=fmnist.default_target_attribute); \n",
    "X = X.reshape(70000, 28, 28)\n",
    "fmnist_classes = {0:\"T-shirt/top\", 1: \"Trouser\", 2: \"Pullover\", 3: \"Dress\", 4: \"Coat\", 5: \"Sandal\", \n",
    "                  6: \"Shirt\", 7: \"Sneaker\", 8: \"Bag\", 9: \"Ankle boot\"}\n",
    "\n",
    "X_train_val, X_test, y_train_val, y_test = train_test_split(X, y, train_size=60000, stratify=y)\n",
    "X_train, X_val, y_train, y_val = train_test_split(X_train_val, y_train_val, train_size=50000, stratify=y_train_val)\n",
    "print(\"Training set: \",X_train.shape)\n",
    "print(\"Validation set: \", X_val.shape)\n",
    "print(\"Test set: \",X_test.shape)"
   ]
  },
  {
   "cell_type": "markdown",
   "metadata": {},
   "source": [
    "#### Data preprocessing"
   ]
  },
  {
   "cell_type": "code",
   "execution_count": 3,
   "metadata": {},
   "outputs": [],
   "source": [
    "X_train = X_train.reshape((50000, 28 * 28)).astype('float32') / 255\n",
    "X_train_val = X_train_val.reshape((60000, 28 * 28)).astype('float32') / 255\n",
    "X_val = X_val.reshape((10000, 28 * 28)).astype('float32') / 255\n",
    "X_test = X_test.reshape((10000, 28 * 28)).astype('float32') / 255\n",
    "\n",
    "y_train = to_categorical(y_train)\n",
    "y_train_val = to_categorical(y_train_val)\n",
    "y_val = to_categorical(y_val)\n",
    "y_test = to_categorical(y_test)"
   ]
  },
  {
   "cell_type": "markdown",
   "metadata": {},
   "source": [
    "#### Vanilla model"
   ]
  },
  {
   "cell_type": "code",
   "execution_count": 4,
   "metadata": {},
   "outputs": [
    {
     "name": "stdout",
     "output_type": "stream",
     "text": [
      "_________________________________________________________________\n",
      "Layer (type)                 Output Shape              Param #   \n",
      "=================================================================\n",
      "dense_1 (Dense)              (None, 512)               401920    \n",
      "_________________________________________________________________\n",
      "dense_2 (Dense)              (None, 256)               131328    \n",
      "_________________________________________________________________\n",
      "dense_3 (Dense)              (None, 128)               32896     \n",
      "_________________________________________________________________\n",
      "dense_4 (Dense)              (None, 10)                1290      \n",
      "=================================================================\n",
      "Total params: 567,434\n",
      "Trainable params: 567,434\n",
      "Non-trainable params: 0\n",
      "_________________________________________________________________\n"
     ]
    }
   ],
   "source": [
    "np.random.seed(1337)\n",
    "\n",
    "model = models.Sequential()\n",
    "model.add(layers.Dense(512, activation='relu', input_shape=(28 * 28,)))\n",
    "model.add(layers.Dense(256, activation='relu'))\n",
    "model.add(layers.Dense(128, activation='relu'))\n",
    "model.add(layers.Dense(10, activation='softmax'))\n",
    "model.summary()"
   ]
  },
  {
   "cell_type": "code",
   "execution_count": 5,
   "metadata": {},
   "outputs": [],
   "source": [
    "model.compile(optimizer='adam', loss='categorical_crossentropy', metrics=['accuracy'])\n",
    "history = model.fit(X_train, y_train,\n",
    "                    epochs=40, batch_size=512, verbose=0,\n",
    "                    validation_data=(X_val, y_val))"
   ]
  },
  {
   "cell_type": "code",
   "execution_count": 6,
   "metadata": {},
   "outputs": [
    {
     "data": {
      "image/png": "[encoded data removed]",
      "text/plain": [
       "<Figure size 432x288 with 1 Axes>"
      ]
     },
     "metadata": {
      "needs_background": "light"
     },
     "output_type": "display_data"
    }
   ],
   "source": [
    "acc = history.history['acc']\n",
    "val_acc = history.history['val_acc']\n",
    "loss = history.history['loss']\n",
    "val_loss = history.history['val_loss']\n",
    "\n",
    "epochs = range(1, len(acc) + 1)\n",
    "\n",
    "# \"bo\" is for \"blue dot\"\n",
    "plt.plot(epochs, acc, 'bo', label='Training accuracy')\n",
    "# b is for \"solid blue line\"\n",
    "plt.plot(epochs, val_acc, 'b', label='Validation accuracy')\n",
    "plt.title('Training and validation accuracy')\n",
    "plt.xlabel('Epochs')\n",
    "plt.ylabel('Accuracy')\n",
    "plt.legend()\n",
    "\n",
    "plt.show()"
   ]
  },
  {
   "cell_type": "code",
   "execution_count": 7,
   "metadata": {},
   "outputs": [],
   "source": [
    "# best epoch\n",
    "vnl_best_epoch = np.argmin(val_loss)"
   ]
  },
  {
   "cell_type": "markdown",
   "metadata": {},
   "source": [
    "#### Model with dropout"
   ]
  },
  {
   "cell_type": "code",
   "execution_count": 8,
   "metadata": {},
   "outputs": [
    {
     "name": "stdout",
     "output_type": "stream",
     "text": [
      "_________________________________________________________________\n",
      "Layer (type)                 Output Shape              Param #   \n",
      "=================================================================\n",
      "dense_5 (Dense)              (None, 512)               401920    \n",
      "_________________________________________________________________\n",
      "dropout_1 (Dropout)          (None, 512)               0         \n",
      "_________________________________________________________________\n",
      "dense_6 (Dense)              (None, 256)               131328    \n",
      "_________________________________________________________________\n",
      "dropout_2 (Dropout)          (None, 256)               0         \n",
      "_________________________________________________________________\n",
      "dense_7 (Dense)              (None, 128)               32896     \n",
      "_________________________________________________________________\n",
      "dropout_3 (Dropout)          (None, 128)               0         \n",
      "_________________________________________________________________\n",
      "dense_8 (Dense)              (None, 10)                1290      \n",
      "=================================================================\n",
      "Total params: 567,434\n",
      "Trainable params: 567,434\n",
      "Non-trainable params: 0\n",
      "_________________________________________________________________\n"
     ]
    }
   ],
   "source": [
    "dpt_model = models.Sequential()\n",
    "dpt_model.add(layers.Dense(512, activation='relu', input_shape=(28 * 28,)))\n",
    "dpt_model.add(layers.Dropout(0.3))\n",
    "dpt_model.add(layers.Dense(256, activation='relu'))\n",
    "dpt_model.add(layers.Dropout(0.4))\n",
    "dpt_model.add(layers.Dense(128, activation='relu'))\n",
    "dpt_model.add(layers.Dropout(0.5))\n",
    "dpt_model.add(layers.Dense(10, activation='softmax'))\n",
    "dpt_model.summary()"
   ]
  },
  {
   "cell_type": "code",
   "execution_count": 9,
   "metadata": {},
   "outputs": [],
   "source": [
    "dpt_model.compile(optimizer='adam',\n",
    "                  loss='categorical_crossentropy',\n",
    "                  metrics=['accuracy'])\n",
    "dpt_model_hist = dpt_model.fit(X_train, y_train,\n",
    "                               epochs=40, batch_size=512, verbose=0,\n",
    "                               validation_data=(X_val, y_val))"
   ]
  },
  {
   "cell_type": "code",
   "execution_count": 10,
   "metadata": {},
   "outputs": [
    {
     "data": {
      "image/png": "[encoded data removed]",
      "text/plain": [
       "<Figure size 432x288 with 1 Axes>"
      ]
     },
     "metadata": {
      "needs_background": "light"
     },
     "output_type": "display_data"
    }
   ],
   "source": [
    "dpt_acc = dpt_model_hist.history['acc']\n",
    "dpt_val_acc = dpt_model_hist.history['val_acc']\n",
    "dpt_loss = dpt_model_hist.history['loss']\n",
    "dpt_val_loss = dpt_model_hist.history['val_loss']\n",
    "\n",
    "epochs = range(1, len(acc) + 1)\n",
    "\n",
    "# \"bo\" is for \"blue dot\"\n",
    "plt.plot(epochs, dpt_acc, 'bo', label='Training accuracy')\n",
    "# b is for \"solid blue line\"\n",
    "plt.plot(epochs, dpt_val_acc, 'b', label='Validation accuracy')\n",
    "plt.title('Training and validation accuracy')\n",
    "plt.xlabel('Epochs')\n",
    "plt.ylabel('Accuracy')\n",
    "plt.legend()\n",
    "\n",
    "plt.show()"
   ]
  },
  {
   "cell_type": "code",
   "execution_count": 11,
   "metadata": {},
   "outputs": [],
   "source": [
    "# best epoch\n",
    "dpt_best_epoch = np.argmin(dpt_val_loss)"
   ]
  },
  {
   "cell_type": "markdown",
   "metadata": {},
   "source": [
    "#### Compare validation scores"
   ]
  },
  {
   "cell_type": "code",
   "execution_count": 12,
   "metadata": {},
   "outputs": [
    {
     "data": {
      "image/png": "[encoded data removed]",
      "text/plain": [
       "<Figure size 432x288 with 1 Axes>"
      ]
     },
     "metadata": {
      "needs_background": "light"
     },
     "output_type": "display_data"
    }
   ],
   "source": [
    "plt.plot(epochs, val_loss, 'b-', label='Vanilla loss')\n",
    "plt.plot(epochs, val_acc, 'bo', label='Vanilla acc')\n",
    "plt.plot(epochs, dpt_val_loss, 'r-', label='Dropout loss')\n",
    "plt.plot(epochs, dpt_val_acc, 'ro', label='Dropout acc')\n",
    "plt.xlabel('Epochs')\n",
    "plt.ylabel('Validation score')\n",
    "plt.legend()\n",
    "\n",
    "plt.show()"
   ]
  },
  {
   "cell_type": "markdown",
   "metadata": {},
   "source": [
    "When we compare the loss score between vanilla model and model with dropout, we can see that dropout-regularized model converge slower but less prone to overfitting. In contrast, vanilla model start to overfit after only 12 epochs. In terms of accuracy, there is no disctintive gap between the two models."
   ]
  },
  {
   "cell_type": "markdown",
   "metadata": {},
   "source": [
    "#### Use best models to check the test score"
   ]
  },
  {
   "cell_type": "markdown",
   "metadata": {},
   "source": [
    "Retrain every model with the best epochs in terms of lowest validation loss score. Use both train and validation set because we want to find the performance for test set."
   ]
  },
  {
   "cell_type": "code",
   "execution_count": 13,
   "metadata": {},
   "outputs": [],
   "source": [
    "vnl_model = models.Sequential()\n",
    "vnl_model.add(layers.Dense(512, activation='relu', input_shape=(28 * 28,)))\n",
    "vnl_model.add(layers.Dense(256, activation='relu'))\n",
    "vnl_model.add(layers.Dense(128, activation='relu'))\n",
    "vnl_model.add(layers.Dense(10, activation='softmax'))\n",
    "\n",
    "vnl_model.compile(optimizer='adam',\n",
    "                  loss='categorical_crossentropy',\n",
    "                  metrics=['accuracy'])\n",
    "\n",
    "vnl_model_hist = vnl_model.fit(X_train_val, y_train_val,\n",
    "                    epochs=vnl_best_epoch, batch_size=512, verbose=0)"
   ]
  },
  {
   "cell_type": "code",
   "execution_count": 14,
   "metadata": {},
   "outputs": [],
   "source": [
    "dpt_model = models.Sequential()\n",
    "dpt_model.add(layers.Dense(512, activation='relu', input_shape=(28 * 28,)))\n",
    "dpt_model.add(layers.Dropout(0.3))\n",
    "dpt_model.add(layers.Dense(256, activation='relu'))\n",
    "dpt_model.add(layers.Dropout(0.4))\n",
    "dpt_model.add(layers.Dense(128, activation='relu'))\n",
    "dpt_model.add(layers.Dropout(0.5))\n",
    "dpt_model.add(layers.Dense(10, activation='softmax'))\n",
    "\n",
    "dpt_model.compile(optimizer='adam',\n",
    "                  loss='categorical_crossentropy',\n",
    "                  metrics=['accuracy'])\n",
    "\n",
    "dpt_model_hist = dpt_model.fit(X_train_val, y_train_val,\n",
    "                       epochs=dpt_best_epoch, batch_size=512, verbose=0)"
   ]
  },
  {
   "cell_type": "code",
   "execution_count": 15,
   "metadata": {},
   "outputs": [
    {
     "name": "stdout",
     "output_type": "stream",
     "text": [
      "Test accuracy (Vanilla): 0.8903\n",
      "Test loss (Vanilla): 0.32216709393262866\n",
      "Test accuracy (w/Dropout): 0.8959\n",
      "Test loss (w/Dropout): 0.29489456206560133\n"
     ]
    }
   ],
   "source": [
    "vnl_test_loss, vnl_test_acc = vnl_model.evaluate(X_test, y_test, verbose=0)\n",
    "dpt_test_loss, dpt_test_acc = dpt_model.evaluate(X_test, y_test, verbose=0)\n",
    "print('Test accuracy (Vanilla):', vnl_test_acc)\n",
    "print('Test loss (Vanilla):', vnl_test_loss)\n",
    "print('Test accuracy (w/Dropout):', dpt_test_acc)\n",
    "print('Test loss (w/Dropout):', dpt_test_loss)"
   ]
  },
  {
   "cell_type": "markdown",
   "metadata": {},
   "source": [
    "Using optimal number of epochs, model with dropout layers is slightly better in accuracy and 10% lower in loss compared to vanilla model for the test set. Based on the observed validation loss plot, dropout layers slightly improve the result because dropout helps regularize the model. "
   ]
  }
 ],
 "metadata": {
  "kernelspec": {
   "display_name": "Python 3",
   "language": "python",
   "name": "python3"
  },
  "language_info": {
   "codemirror_mode": {
    "name": "ipython",
    "version": 3
   },
   "file_extension": ".py",
   "mimetype": "text/x-python",
   "name": "python",
   "nbconvert_exporter": "python",
   "pygments_lexer": "ipython3",
   "version": "3.6.7"
  },
  "varInspector": {
   "cols": {
    "lenName": 16,
    "lenType": 16,
    "lenVar": 40
   },
   "kernels_config": {
    "python": {
     "delete_cmd_postfix": "",
     "delete_cmd_prefix": "del ",
     "library": "var_list.py",
     "varRefreshCmd": "print(var_dic_list())"
    },
    "r": {
     "delete_cmd_postfix": ") ",
     "delete_cmd_prefix": "rm(",
     "library": "var_list.r",
     "varRefreshCmd": "cat(var_dic_list()) "
    }
   },
   "types_to_exclude": [
    "module",
    "function",
    "builtin_function_or_method",
    "instance",
    "_Feature"
   ],
   "window_display": false
  }
 },
 "nbformat": 4,
 "nbformat_minor": 2
}
